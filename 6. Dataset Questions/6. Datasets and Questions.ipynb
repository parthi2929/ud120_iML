{
 "cells": [
  {
   "cell_type": "markdown",
   "metadata": {},
   "source": [
    "## Datasets and Questions\n",
    "\n",
    "**Setup**  \n",
    "The udacity pickles were created with python 2.x, so it is important we run and ensure python 2 in this notebook to be able to handle pickles.\n",
    "[This](http://ipython.readthedocs.io/en/stable/install/kernel_install.html) could help creating conda env to influence jupyter's kernel choice to python 2"
   ]
  },
  {
   "cell_type": "code",
   "execution_count": 13,
   "metadata": {},
   "outputs": [
    {
     "data": {
      "text/plain": [
       "sys.version_info(major=2, minor=7, micro=15, releaselevel='final', serial=0)"
      ]
     },
     "execution_count": 13,
     "metadata": {},
     "output_type": "execute_result"
    }
   ],
   "source": [
    "# ensuring python version\n",
    "import sys\n",
    "sys.version\n",
    "sys.version_info"
   ]
  },
  {
   "cell_type": "markdown",
   "metadata": {},
   "source": [
    "## Basic questions about dataset\n",
    "**How many data points(people) are in the dataset?**"
   ]
  },
  {
   "cell_type": "code",
   "execution_count": 14,
   "metadata": {
    "scrolled": true
   },
   "outputs": [],
   "source": [
    "from explore_enron_data import enron_data\n",
    "\n",
    "total = len(enron_data)"
   ]
  },
  {
   "cell_type": "markdown",
   "metadata": {},
   "source": [
    "**For each person, how many features are available?**\n",
    "\n",
    "This should be length of 'value'of each key. Assuming each _key_ or _person_ has same no of features, let us try to get for 1st person. "
   ]
  },
  {
   "cell_type": "code",
   "execution_count": 15,
   "metadata": {},
   "outputs": [
    {
     "data": {
      "text/plain": [
       "21"
      ]
     },
     "execution_count": 15,
     "metadata": {},
     "output_type": "execute_result"
    }
   ],
   "source": [
    "len(enron_data.items()[0][1])"
   ]
  },
  {
   "cell_type": "markdown",
   "metadata": {},
   "source": [
    "**How many POIs are there?**\n",
    "\n",
    "In other words, count the number of entries in the dictionary where data[person_name][\"poi\"]==1"
   ]
  },
  {
   "cell_type": "code",
   "execution_count": 16,
   "metadata": {},
   "outputs": [
    {
     "data": {
      "text/plain": [
       "18"
      ]
     },
     "execution_count": 16,
     "metadata": {},
     "output_type": "execute_result"
    }
   ],
   "source": [
    "count = 0\n",
    "for k,v in enron_data.iteritems():\n",
    "    if v['poi'] == 1:\n",
    "        count += 1\n",
    "count"
   ]
  },
  {
   "cell_type": "markdown",
   "metadata": {},
   "source": [
    "## Query further the Dataset\n",
    "**Total value of stock belonging to James Prentice?**"
   ]
  },
  {
   "cell_type": "code",
   "execution_count": 17,
   "metadata": {},
   "outputs": [
    {
     "data": {
      "text/plain": [
       "1095040"
      ]
     },
     "execution_count": 17,
     "metadata": {},
     "output_type": "execute_result"
    }
   ],
   "source": [
    "enron_data.get('PRENTICE JAMES',[])['total_stock_value']"
   ]
  },
  {
   "cell_type": "markdown",
   "metadata": {},
   "source": [
    "**How many email messages do we have from Wesley Colwell to persons of interest?**"
   ]
  },
  {
   "cell_type": "code",
   "execution_count": 18,
   "metadata": {},
   "outputs": [
    {
     "data": {
      "text/plain": [
       "11"
      ]
     },
     "execution_count": 18,
     "metadata": {},
     "output_type": "execute_result"
    }
   ],
   "source": [
    "enron_data.get('COLWELL WESLEY',[])['from_this_person_to_poi']"
   ]
  },
  {
   "cell_type": "markdown",
   "metadata": {},
   "source": [
    "**What’s the value of stock options exercised by Jeffrey K Skilling?**"
   ]
  },
  {
   "cell_type": "code",
   "execution_count": 19,
   "metadata": {},
   "outputs": [
    {
     "data": {
      "text/plain": [
       "19250000"
      ]
     },
     "execution_count": 19,
     "metadata": {},
     "output_type": "execute_result"
    }
   ],
   "source": [
    "enron_data.get('SKILLING JEFFREY K',[])['exercised_stock_options']"
   ]
  },
  {
   "cell_type": "markdown",
   "metadata": {},
   "source": [
    "## Research the Enron Fraud\n",
    "Udacity recommends watching 'Enron: The Smartest Guys In the Room' documentry to proceed further. I used [this](https://www.investopedia.com/updates/enron-scandal-summary/) reference."
   ]
  },
  {
   "cell_type": "markdown",
   "metadata": {},
   "source": [
    "Enron CEO during fraud: ```Jeffrey Skilling```  \n",
    "Enron Chairman during fraud: ``` Kenneth Lay```  \n",
    "Enron CFO during fraud: ```Andrew Fastow```  \n",
    "\n",
    "## Follow the Money\n",
    "**Of these three individuals (Lay, Skilling and Fastow), who took home the most money (largest value of “total_payments” feature)?**"
   ]
  },
  {
   "cell_type": "code",
   "execution_count": 20,
   "metadata": {},
   "outputs": [
    {
     "data": {
      "text/plain": [
       "('LAY KENNETH L', 103559793)"
      ]
     },
     "execution_count": 20,
     "metadata": {},
     "output_type": "execute_result"
    }
   ],
   "source": [
    "from operator import itemgetter\n",
    "\n",
    "total_payments_dict = {}  # caz its person : his payment\n",
    "poi_list = ['SKILLING JEFFREY K', 'LAY KENNETH L', 'FASTOW ANDREW S']\n",
    "for each_person in poi_list:\n",
    "    total_payments_dict.update( {each_person : enron_data.get(each_person,[])['total_payments']} )\n",
    "\n",
    "max(total_payments_dict.iteritems(), key=itemgetter(1)) #ref: https://artemrudenko.wordpress.com/2013/04/12/python-finding-a-key-of-dictionary-element-with-the-highestmin-value/"
   ]
  },
  {
   "cell_type": "markdown",
   "metadata": {},
   "source": [
    "## Unfilled Features\n",
    "\n",
    "**How is it denoted when a feature doesn’t have a well-defined value?**"
   ]
  },
  {
   "cell_type": "code",
   "execution_count": 21,
   "metadata": {},
   "outputs": [
    {
     "data": {
      "text/plain": [
       "{'bonus': 5600000,\n",
       " 'deferral_payments': 'NaN',\n",
       " 'deferred_income': 'NaN',\n",
       " 'director_fees': 'NaN',\n",
       " 'email_address': 'jeff.skilling@enron.com',\n",
       " 'exercised_stock_options': 19250000,\n",
       " 'expenses': 29336,\n",
       " 'from_messages': 108,\n",
       " 'from_poi_to_this_person': 88,\n",
       " 'from_this_person_to_poi': 30,\n",
       " 'loan_advances': 'NaN',\n",
       " 'long_term_incentive': 1920000,\n",
       " 'other': 22122,\n",
       " 'poi': True,\n",
       " 'restricted_stock': 6843672,\n",
       " 'restricted_stock_deferred': 'NaN',\n",
       " 'salary': 1111258,\n",
       " 'shared_receipt_with_poi': 2042,\n",
       " 'to_messages': 3627,\n",
       " 'total_payments': 8682716,\n",
       " 'total_stock_value': 26093672}"
      ]
     },
     "execution_count": 21,
     "metadata": {},
     "output_type": "execute_result"
    }
   ],
   "source": [
    "# testing\n",
    "enron_data.get('SKILLING JEFFREY K',[])"
   ]
  },
  {
   "cell_type": "markdown",
   "metadata": {},
   "source": [
    "So answer is **NaN**"
   ]
  },
  {
   "cell_type": "markdown",
   "metadata": {},
   "source": [
    "## Dealing with unfilled features\n",
    "**How many folks in this dataset have a quantified salary?**"
   ]
  },
  {
   "cell_type": "code",
   "execution_count": 22,
   "metadata": {},
   "outputs": [
    {
     "data": {
      "text/plain": [
       "95"
      ]
     },
     "execution_count": 22,
     "metadata": {},
     "output_type": "execute_result"
    }
   ],
   "source": [
    "people_counter = 0  # count only those having quantified salary\n",
    "\n",
    "for k,v in enron_data.iteritems():\n",
    "    salary =  v['salary']\n",
    "    #print salary\n",
    "    if salary != 'NaN':\n",
    "        people_counter += 1\n",
    "people_counter"
   ]
  },
  {
   "cell_type": "markdown",
   "metadata": {},
   "source": [
    "**How many folks in this dataset have known email address?**"
   ]
  },
  {
   "cell_type": "code",
   "execution_count": 23,
   "metadata": {},
   "outputs": [
    {
     "data": {
      "text/plain": [
       "111"
      ]
     },
     "execution_count": 23,
     "metadata": {},
     "output_type": "execute_result"
    }
   ],
   "source": [
    "email_counter = 0  # count only those having quantified salary\n",
    "\n",
    "for k,v in enron_data.iteritems():\n",
    "    email =  v['email_address']\n",
    "    #print email\n",
    "    if email != 'NaN':\n",
    "        #if '..' not in email: # apparantly this is not a problem..\n",
    "            email_counter += 1\n",
    "email_counter"
   ]
  },
  {
   "cell_type": "markdown",
   "metadata": {},
   "source": [
    "## Missing POIs 1\n",
    "**How many people in the E+F dataset (as it currently exists) have “NaN” for their total payments? What percentage of people in the dataset as a whole is this?**"
   ]
  },
  {
   "cell_type": "code",
   "execution_count": 24,
   "metadata": {},
   "outputs": [
    {
     "name": "stdout",
     "output_type": "stream",
     "text": [
      "21\n",
      "0.143835616438\n"
     ]
    }
   ],
   "source": [
    "from __future__ import division  # for python 2, sigh..\n",
    "people_counter = 0  # count only those having unquantified payments that is 'NaN\n",
    "\n",
    "for k,v in enron_data.iteritems():\n",
    "    total_payments =  v['total_payments']\n",
    "    #print email\n",
    "    if total_payments == 'NaN':\n",
    "        people_counter += 1\n",
    "print people_counter\n",
    "print people_counter/total"
   ]
  },
  {
   "cell_type": "markdown",
   "metadata": {},
   "source": [
    "## Missing POIs 2\n",
    "\n",
    "**How many POIs in the E+F dataset have “NaN” for their total payments? What percentage of POI’s as a whole is this?**"
   ]
  },
  {
   "cell_type": "code",
   "execution_count": 25,
   "metadata": {},
   "outputs": [
    {
     "name": "stdout",
     "output_type": "stream",
     "text": [
      "0\n",
      "0.0\n"
     ]
    }
   ],
   "source": [
    "from __future__ import division  # for python 2, sigh..\n",
    "poi_nan_counter = 0  \n",
    "poi_total_counter = 0\n",
    "\n",
    "for k,v in enron_data.iteritems():\n",
    "    total_payments =  v['total_payments']\n",
    "    poi = v['poi']\n",
    "    #print email\n",
    "    if poi == True:\n",
    "        poi_total_counter += 1\n",
    "        if total_payments == 'NaN':\n",
    "            poi_nan_counter += 1\n",
    "print poi_nan_counter\n",
    "print poi_nan_counter/poi_total_counter"
   ]
  },
  {
   "cell_type": "markdown",
   "metadata": {},
   "source": [
    "yeah, I double checked. Its 0."
   ]
  },
  {
   "cell_type": "markdown",
   "metadata": {},
   "source": [
    "## Missing POIs 3\n",
    "**If a machine learning algorithm were to use total_payments as a feature, would you expect it to associate a “NaN” value with POIs or non-POIs?**\n",
    "\n",
    "With non-POIs because, in our training dataset, only non-POIs have some NaNs. which means, this could be a feature to learn to distinguish something on non-POIs. \n",
    "\n",
    "On other hand, all POIs have quantified payments or none have 'NaN', so there is nothing to learn there to distinguish people (by checking if 'NaN' or not)"
   ]
  },
  {
   "cell_type": "markdown",
   "metadata": {},
   "source": [
    "## Missing POIs 4\n",
    "If you added in, say, 10 more data points which were all POI’s, and put “NaN” for the total payments for those folks, the numbers you just calculated would change.  \n",
    "**What is the new number of people of the dataset? What is the new number of folks with “NaN” for total payments?**  "
   ]
  },
  {
   "cell_type": "code",
   "execution_count": 26,
   "metadata": {},
   "outputs": [
    {
     "name": "stdout",
     "output_type": "stream",
     "text": [
      "new total: 156\n",
      "new nans: 31\n"
     ]
    }
   ],
   "source": [
    "# current no of people in dataset\n",
    "people_counter =  len(enron_data)\n",
    "\n",
    "\n",
    "# current no of folks with 'NaN' for total payments\n",
    "nan_counter = 0\n",
    "for k,v in enron_data.iteritems():\n",
    "    if v['total_payments'] == 'NaN':\n",
    "        nan_counter += 1\n",
    "\n",
    "# 10 new POIs added, so \n",
    "people_counter = people_counter + 10\n",
    "print 'new total: ' + str(people_counter)\n",
    "\n",
    "# 10 new NaNs\n",
    "nan_counter = nan_counter + 10\n",
    "print 'new nans: ' + str(nan_counter)"
   ]
  },
  {
   "cell_type": "markdown",
   "metadata": {},
   "source": [
    "## Missing POIs 5\n",
    "**What is the new number of POI’s in the dataset? What is the new number of POI’s with NaN for total_payments?**"
   ]
  },
  {
   "cell_type": "code",
   "execution_count": 27,
   "metadata": {},
   "outputs": [
    {
     "name": "stdout",
     "output_type": "stream",
     "text": [
      "28\n"
     ]
    }
   ],
   "source": [
    "# current no of POIs\n",
    "poi_counter = 0\n",
    "for k,v in enron_data.iteritems():\n",
    "    if v['poi'] == True:\n",
    "        poi_counter += 1\n",
    "        \n",
    "# after new 10 pois\n",
    "poi_counter = poi_counter + 10\n",
    "print poi_counter\n",
    "\n",
    "# since all earlier pois had quantified total_payments, new no of pois with NaN is 10"
   ]
  },
  {
   "cell_type": "markdown",
   "metadata": {},
   "source": [
    "## Missing POIs 6\n",
    "Once the new data points are added, do you think a supervised classification algorithm might interpret “NaN” for total_payments as a clue that someone is a POI?\n",
    "\n",
    "Ans: Of course. Now some POIs have quantified payments and some have NaN. So a person having a NaN total payment could be a POI as well."
   ]
  },
  {
   "cell_type": "code",
   "execution_count": null,
   "metadata": {},
   "outputs": [],
   "source": []
  }
 ],
 "metadata": {
  "kernelspec": {
   "display_name": "Python 2",
   "language": "python",
   "name": "python2"
  },
  "language_info": {
   "codemirror_mode": {
    "name": "ipython",
    "version": 2
   },
   "file_extension": ".py",
   "mimetype": "text/x-python",
   "name": "python",
   "nbconvert_exporter": "python",
   "pygments_lexer": "ipython2",
   "version": "2.7.15"
  }
 },
 "nbformat": 4,
 "nbformat_minor": 2
}
